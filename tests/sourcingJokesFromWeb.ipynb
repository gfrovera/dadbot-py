{
 "cells": [
  {
   "cell_type": "code",
   "execution_count": 1,
   "metadata": {},
   "outputs": [],
   "source": [
    "import requests\n",
    "from bs4 import BeautifulSoup\n",
    "import json\n",
    "import uuid6"
   ]
  },
  {
   "cell_type": "code",
   "execution_count": 2,
   "metadata": {},
   "outputs": [],
   "source": [
    "joke_websites = {\n",
    "    # Chuck Norris Top 100 Joke List \n",
    "    'chuckURL': 'https://punsandjokes.com/chuck-norris-jokes/',\n",
    "    # Dad Joke List from /r/dadjokes\n",
    "    'dadURL': 'https://www.reddit.com/r/dadjokes/comments/dcwqu1/514_dad_jokes/',\n",
    "    # bs4 HEADER\n",
    "    'header': {'User-Agent': 'Mozilla/5.0 (Windows NT 10.0; Win64; x64) AppleWebKit/537.36 (KHTML, like Gecko) Chrome/58.0.3029.110 Safari/537.3'}\n",
    "}"
   ]
  },
  {
   "cell_type": "code",
   "execution_count": 3,
   "metadata": {},
   "outputs": [],
   "source": [
    "# Creating function to return page contents\n",
    "def get_page_contents(site: str, header: dict) -> BeautifulSoup:\n",
    "    response = requests.get(site, headers=header)\n",
    "    return BeautifulSoup(response.content, 'html.parser')"
   ]
  },
  {
   "cell_type": "markdown",
   "metadata": {},
   "source": [
    "Scrapping `Chuck Norris` jokes and saving to a list. Each joke will have a `jokeID` created via `uuid4`"
   ]
  },
  {
   "cell_type": "code",
   "execution_count": 4,
   "metadata": {},
   "outputs": [],
   "source": [
    "chuck_joke_soup = get_page_contents(joke_websites['chuckURL'], joke_websites['header'])"
   ]
  },
  {
   "cell_type": "code",
   "execution_count": 13,
   "metadata": {},
   "outputs": [],
   "source": [
    "# Getting list of li elements in the section of html where jokes are stored.\n",
    "li_elements = chuck_joke_soup.select('div.entry-content.blog_post_text.blog_post_description.clearfix li')\n",
    "\n",
    "# Creating empty list to append each chuck norris joke and jokeID to.\n",
    "chuck_joke_list = []\n",
    "\n",
    "for jk in li_elements:\n",
    "\n",
    "    chuck_joke_list.append({\n",
    "        'jokeID': str(uuid6.uuid7()),\n",
    "        'jokeContent': jk.text.strip(),\n",
    "        'jokeChosenCnt': 0,\n",
    "        'jokeUpVoteCnt': 0,\n",
    "        'jokeDwnVoteCnt': 0\n",
    "    })"
   ]
  },
  {
   "cell_type": "code",
   "execution_count": 14,
   "metadata": {},
   "outputs": [
    {
     "data": {
      "text/plain": [
       "(225,\n",
       " [{'jokeID': '018a9f61-4063-7d0c-b2de-96dfbbc72eb9',\n",
       "   'jokeContent': 'When Chuck Norris was a baby he farted for the first time, scientists say this is when the big bang occured.',\n",
       "   'jokeChosenCnt': 0,\n",
       "   'jokeUpVoteCnt': 0,\n",
       "   'jokeDwnVoteCnt': 0},\n",
       "  {'jokeID': '018a9f61-4064-7423-b52d-475d2c8fca70',\n",
       "   'jokeContent': 'After Chuck Norris was born, he drove his Mother home from the hospital.',\n",
       "   'jokeChosenCnt': 0,\n",
       "   'jokeUpVoteCnt': 0,\n",
       "   'jokeDwnVoteCnt': 0},\n",
       "  {'jokeID': '018a9f61-4065-7c27-bc5f-75566c8dddbb',\n",
       "   'jokeContent': 'Chuck Norris’ tears cure cancer. The problem is that he has never cried.',\n",
       "   'jokeChosenCnt': 0,\n",
       "   'jokeUpVoteCnt': 0,\n",
       "   'jokeDwnVoteCnt': 0}])"
      ]
     },
     "execution_count": 14,
     "metadata": {},
     "output_type": "execute_result"
    }
   ],
   "source": [
    "# Checking total length of list and looking at first three elments to check successfull append\n",
    "len(chuck_joke_list), chuck_joke_list[0:3]"
   ]
  },
  {
   "cell_type": "markdown",
   "metadata": {},
   "source": [
    "Scrapping `Dad Jokes` and saving to a list. Each joke will ahve a `jokeID` created via `uuid4()`\n",
    "\n",
    "Unlike the `Chuck Norris` joke list, if the dad joke contains and question mark it is split into a `jokeContent` and `jokeAnswer` key:values"
   ]
  },
  {
   "cell_type": "code",
   "execution_count": 8,
   "metadata": {},
   "outputs": [],
   "source": [
    "dad_joke_soup = get_page_contents(joke_websites['dadURL'], joke_websites['header'])"
   ]
  },
  {
   "cell_type": "code",
   "execution_count": 11,
   "metadata": {},
   "outputs": [],
   "source": [
    "# Extracting all joke elements from post contents. Each joke is contained in a seperate <p> element.\n",
    "dad_joke_list = []\n",
    "\n",
    "div_element = dad_joke_soup.find(\"div\", {\"slot\": \"text-body\"})\n",
    "\n",
    "if not div_element:  # if div_element is still None\n",
    "    print(\"Unable to find the main div.\")\n",
    "else:\n",
    "    jokes = div_element.find_all(\"p\")\n",
    "\n",
    "    for joke in jokes:\n",
    "        joke_text = joke.text.strip()\n",
    "    \n",
    "        if joke_text:\n",
    "            if '?' in joke_text:\n",
    "                split_joke = joke_text.split('?', 1)\n",
    "                joke_content = split_joke[0] + '?'\n",
    "                joke_answer = split_joke[1].strip() if len(split_joke) > 1 else ''\n",
    "\n",
    "                joke_data = {\n",
    "                    'jokeID': str(uuid6.uuid7()),\n",
    "                    'jokeContent': joke_content,\n",
    "                    'jokeAnswer': joke_answer,\n",
    "                    'jokeChosenCnt': 0,\n",
    "                    'jokeUpVoteCnt': 0,\n",
    "                    'jokeDwnVoteCnt': 0\n",
    "                }\n",
    "\n",
    "            else:\n",
    "                joke_data = {\n",
    "                    \"jokeId\": str(uuid6.uuid7()),\n",
    "                    \"content\": joke_text,\n",
    "                    'jokeChosenCnt': 0,\n",
    "                    'jokeUpVoteCnt': 0,\n",
    "                    'jokeDwnVoteCnt': 0\n",
    "                }\n",
    "\n",
    "        dad_joke_list.append(joke_data)    "
   ]
  },
  {
   "cell_type": "code",
   "execution_count": 12,
   "metadata": {},
   "outputs": [
    {
     "data": {
      "text/plain": [
       "(635,\n",
       " [{'jokeID': '018a9f60-76b0-7992-b173-d3a0555747c5',\n",
       "   'jokeContent': 'What do you call a fake noodle?',\n",
       "   'jokeAnswer': 'An Impasta.',\n",
       "   'jokeChosenCnt': 0,\n",
       "   'jokeUpVoteCnt': 0,\n",
       "   'jokeDwnVoteCnt': 0},\n",
       "  {'jokeID': '018a9f60-76b0-7992-b173-d3a0555747c5',\n",
       "   'jokeContent': 'What do you call a fake noodle?',\n",
       "   'jokeAnswer': 'An Impasta.',\n",
       "   'jokeChosenCnt': 0,\n",
       "   'jokeUpVoteCnt': 0,\n",
       "   'jokeDwnVoteCnt': 0},\n",
       "  {'jokeId': '018a9f60-76b1-7f93-9200-08293bc05412',\n",
       "   'content': 'I would avoid the sushi if I was you. It’s a little fishy.',\n",
       "   'jokeChosenCnt': 0,\n",
       "   'jokeUpVoteCnt': 0,\n",
       "   'jokeDwnVoteCnt': 0}])"
      ]
     },
     "execution_count": 12,
     "metadata": {},
     "output_type": "execute_result"
    }
   ],
   "source": [
    "# Checking total length of list and looking at first three elments to check successfull append\n",
    "len(dad_joke_list), dad_joke_list[0:3]"
   ]
  },
  {
   "cell_type": "markdown",
   "metadata": {},
   "source": [
    "Saving jokes out to JSON files for later use or import into a DB for use by DadBot"
   ]
  },
  {
   "cell_type": "code",
   "execution_count": 15,
   "metadata": {},
   "outputs": [],
   "source": [
    "# Creating a single dict of all jokes\n",
    "all_jokes = {\n",
    "    'chuckJokes': chuck_joke_list,\n",
    "    'dadJokes': dad_joke_list\n",
    "}"
   ]
  },
  {
   "cell_type": "code",
   "execution_count": 16,
   "metadata": {},
   "outputs": [],
   "source": [
    "# Writting out to json files.\n",
    "with open('/repos/dadbot-py/data/new_joke_list.json', 'w') as file:\n",
    "    json.dump(all_jokes, file, indent=4)\n",
    "\n",
    "with open('/repos/dadbot-py/data/chuck_norris_only_list.json', 'w') as file:\n",
    "    json.dump(chuck_joke_list, file, indent=4)\n",
    "\n",
    "with open('/repos/dadbot-py/data/dad_joke_list.json', 'w') as file:\n",
    "    json.dump(dad_joke_list, file, indent=4)"
   ]
  }
 ],
 "metadata": {
  "kernelspec": {
   "display_name": "venv",
   "language": "python",
   "name": "python3"
  },
  "language_info": {
   "codemirror_mode": {
    "name": "ipython",
    "version": 3
   },
   "file_extension": ".py",
   "mimetype": "text/x-python",
   "name": "python",
   "nbconvert_exporter": "python",
   "pygments_lexer": "ipython3",
   "version": "3.11.5"
  },
  "orig_nbformat": 4
 },
 "nbformat": 4,
 "nbformat_minor": 2
}
