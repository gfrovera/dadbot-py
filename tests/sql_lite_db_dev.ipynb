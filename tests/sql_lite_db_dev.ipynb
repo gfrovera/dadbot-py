{
 "cells": [
  {
   "cell_type": "code",
   "execution_count": 36,
   "metadata": {},
   "outputs": [],
   "source": [
    "import json\n",
    "import sqlite3 as sql\n",
    "import pathlib as plib\n",
    "import pandas as pd"
   ]
  },
  {
   "cell_type": "code",
   "execution_count": 23,
   "metadata": {},
   "outputs": [
    {
     "name": "stdout",
     "output_type": "stream",
     "text": [
      "d:\\repos\\dadbot-py\\tests\n"
     ]
    }
   ],
   "source": [
    "import os\n",
    "print(os.getcwd())"
   ]
  },
  {
   "cell_type": "code",
   "execution_count": 12,
   "metadata": {},
   "outputs": [],
   "source": [
    "## Joke file paths\n",
    "chuck_file = 'chuck_noris_only_list'\n",
    "dad_file = 'dad_joke_list'\n",
    "\n",
    "# Raw Joke Path\n",
    "joke_dir_name = '/dadbot-py/data/_raw_json_scrapes'\n",
    "suffix = '.json'\n"
   ]
  },
  {
   "cell_type": "code",
   "execution_count": 26,
   "metadata": {},
   "outputs": [
    {
     "data": {
      "text/plain": [
       "WindowsPath('../data/_sqlite/dadbot_db.db')"
      ]
     },
     "execution_count": 26,
     "metadata": {},
     "output_type": "execute_result"
    }
   ],
   "source": [
    "db_path = plib.Path('../data/_sqlite/dadbot_db.db')\n",
    "db_path"
   ]
  },
  {
   "cell_type": "code",
   "execution_count": 27,
   "metadata": {},
   "outputs": [
    {
     "name": "stdout",
     "output_type": "stream",
     "text": [
      "Directory ..\\data\\_sqlite has been created successfully.\n"
     ]
    }
   ],
   "source": [
    "try:\n",
    "    db_path.parent.mkdir(parents=True, exist_ok=True)\n",
    "except Exception as e:\n",
    "    print(f\"Unable to create directory {db_path.parent}. Error: {e}\")\n",
    "else:\n",
    "    print(f\"Directory {db_path.parent} has been created successfully.\")"
   ]
  },
  {
   "cell_type": "code",
   "execution_count": 29,
   "metadata": {},
   "outputs": [
    {
     "name": "stdout",
     "output_type": "stream",
     "text": [
      "Connected to the database at ..\\data\\_sqlite\\dadbot_db.db successfully.\n"
     ]
    }
   ],
   "source": [
    "try:\n",
    "    conn = sql.connect(db_path)\n",
    "except Exception as e:\n",
    "    print(f\"Unable to connect to the database at {db_path}. Error: {e}\")\n",
    "else:\n",
    "    print(f\"Connected to the database at {db_path} successfully.\")\n",
    "    cursor = conn.cursor()"
   ]
  },
  {
   "cell_type": "code",
   "execution_count": 30,
   "metadata": {},
   "outputs": [],
   "source": [
    "# Checking if the table is already exists in the database. \n",
    "# Creates if it doesnt exist...\n",
    "\n",
    "cursor.execute(\n",
    "    '''\n",
    "    SELECT \n",
    "        name\n",
    "    FROM\n",
    "        sqlite_master\n",
    "    WHERE\n",
    "        type = 'table'\n",
    "        AND name = 'jokes'    \n",
    "    '''\n",
    ")\n",
    "if not cursor.fetchone():\n",
    "    cursor.execute(\n",
    "        '''\n",
    "        CREATE TABLE chuck_jokes (\n",
    "            jokeID TEXT PRIMARY KEY,\n",
    "            jokeContent TEXT,\n",
    "            jokeChosenCnt INTEGER,\n",
    "            jokeUpVoteCnt INTEGER,\n",
    "            jokeDwnVoteCnt INTEGER\n",
    "        )\n",
    "        '''\n",
    "    )\n",
    "    conn.commit()\n"
   ]
  },
  {
   "cell_type": "code",
   "execution_count": 33,
   "metadata": {},
   "outputs": [],
   "source": [
    "# Reading in jokes from json file (Chuck norris jokes)\n",
    "\n",
    "chuck_file = plib.Path.cwd().parent / 'data' / '_raw_json_scrapes' / 'chuck_norris_only_list.json'\n",
    "\n",
    "try:\n",
    "    with open(chuck_file, 'r') as file:\n",
    "        jokes = json.load(file)\n",
    "except Exception as e:\n",
    "    print(e)\n",
    "        "
   ]
  },
  {
   "cell_type": "code",
   "execution_count": 35,
   "metadata": {},
   "outputs": [],
   "source": [
    "# Inserting chuck norris jokes into the database\n",
    "for chuck_joke in jokes:\n",
    "    cursor.execute(\n",
    "        '''\n",
    "        INSERT INTO chuck_jokes (\n",
    "            jokeID,\n",
    "            jokeContent,\n",
    "            jokeChosenCnt,\n",
    "            jokeUpVoteCnt, \n",
    "            jokeDwnVoteCnt\n",
    "        )\n",
    "        VALUES (\n",
    "            :jokeID,\n",
    "            :jokeContent,\n",
    "            :jokeChosenCnt,\n",
    "            :jokeUpVoteCnt,\n",
    "            :jokeDwnVoteCnt\n",
    "        )\n",
    "        ''', chuck_joke\n",
    "    )\n",
    "conn.commit()"
   ]
  },
  {
   "cell_type": "code",
   "execution_count": 38,
   "metadata": {},
   "outputs": [],
   "source": [
    "test_query = '''SELECT * FROM chuck_jokes ORDER BY RANDOM() LIMIT 2'''\n",
    "\n",
    "df = pd.read_sql_query(test_query, conn)"
   ]
  },
  {
   "cell_type": "code",
   "execution_count": 41,
   "metadata": {},
   "outputs": [
    {
     "data": {
      "text/plain": [
       "jokeID                         018a9f61-4078-7f24-b82c-4e2bbfa13057\n",
       "jokeContent       When Chuck Norris is in Rome, the Romans must ...\n",
       "jokeChosenCnt                                                     0\n",
       "jokeUpVoteCnt                                                     0\n",
       "jokeDwnVoteCnt                                                    0\n",
       "Name: 1, dtype: object"
      ]
     },
     "execution_count": 41,
     "metadata": {},
     "output_type": "execute_result"
    }
   ],
   "source": [
    "df.iloc[1]"
   ]
  },
  {
   "cell_type": "code",
   "execution_count": 42,
   "metadata": {},
   "outputs": [],
   "source": [
    "conn.close()"
   ]
  },
  {
   "cell_type": "code",
   "execution_count": 32,
   "metadata": {},
   "outputs": [
    {
     "data": {
      "text/plain": [
       "WindowsPath('d:/repos/dadbot-py/data/_raw_json_scrapes/chuck_norris_only_list.json')"
      ]
     },
     "execution_count": 32,
     "metadata": {},
     "output_type": "execute_result"
    }
   ],
   "source": [
    "plib.Path.cwd().parent / 'data' / '_raw_json_scrapes' / 'chuck_norris_only_list.json'"
   ]
  }
 ],
 "metadata": {
  "kernelspec": {
   "display_name": "venv",
   "language": "python",
   "name": "python3"
  },
  "language_info": {
   "codemirror_mode": {
    "name": "ipython",
    "version": 3
   },
   "file_extension": ".py",
   "mimetype": "text/x-python",
   "name": "python",
   "nbconvert_exporter": "python",
   "pygments_lexer": "ipython3",
   "version": "3.11.5"
  },
  "orig_nbformat": 4
 },
 "nbformat": 4,
 "nbformat_minor": 2
}
